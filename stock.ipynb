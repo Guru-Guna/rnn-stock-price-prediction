{
  "nbformat": 4,
  "nbformat_minor": 0,
  "metadata": {
    "colab": {
      "provenance": []
    },
    "kernelspec": {
      "name": "python3",
      "display_name": "Python 3"
    },
    "language_info": {
      "name": "python"
    }
  },
  "cells": [
    {
      "cell_type": "code",
      "execution_count": 1,
      "metadata": {
        "id": "IRUxsZB7SM8o"
      },
      "outputs": [],
      "source": [
        "import numpy as np\n",
        "import matplotlib.pyplot as plt\n",
        "import pandas as pd\n",
        "from sklearn.preprocessing import MinMaxScaler\n",
        "from keras import layers\n",
        "from keras.models import Sequential\n",
        "from tensorflow.keras import models\n",
        "from tensorflow.keras import layers\n"
      ]
    },
    {
      "cell_type": "code",
      "source": [
        "dataset_train = pd.read_csv('trainset.csv')\n",
        "dataset_train.columns\n",
        "dataset_train.head()\n",
        "train_set = dataset_train.iloc[:,1:2].values\n",
        "type(train_set)\n",
        "train_set.shape"
      ],
      "metadata": {
        "colab": {
          "base_uri": "https://localhost:8080/"
        },
        "id": "0FGYjvqlSOaB",
        "outputId": "44c44d3f-ad58-4784-f91b-ab9cc18c65f8"
      },
      "execution_count": 3,
      "outputs": [
        {
          "output_type": "execute_result",
          "data": {
            "text/plain": [
              "(1259, 1)"
            ]
          },
          "metadata": {},
          "execution_count": 3
        }
      ]
    },
    {
      "cell_type": "code",
      "source": [
        "sc = MinMaxScaler(feature_range=(0,1))\n",
        "training_set_scaled = sc.fit_transform(train_set)\n",
        "training_set_scaled.shape"
      ],
      "metadata": {
        "colab": {
          "base_uri": "https://localhost:8080/"
        },
        "id": "D36e_I-5Sb0k",
        "outputId": "8f190b86-5d01-4eb1-bb13-d70231f23bed"
      },
      "execution_count": 4,
      "outputs": [
        {
          "output_type": "execute_result",
          "data": {
            "text/plain": [
              "(1259, 1)"
            ]
          },
          "metadata": {},
          "execution_count": 4
        }
      ]
    },
    {
      "cell_type": "code",
      "source": [
        "X_train_array = []\n",
        "y_train_array = []\n",
        "for i in range(60, 1259):\n",
        "    X_train_array.append(training_set_scaled[i-60:i,0])\n",
        "    y_train_array.append(training_set_scaled[i,0])"
      ],
      "metadata": {
        "id": "bTOXIlXLSkjv"
      },
      "execution_count": 5,
      "outputs": []
    },
    {
      "cell_type": "code",
      "source": [
        "X_train, y_train = np.array(X_train_array), np.array(y_train_array)\n",
        "X_train1 = X_train.reshape((X_train.shape[0], X_train.shape[1],1))\n",
        "X_train.shape"
      ],
      "metadata": {
        "colab": {
          "base_uri": "https://localhost:8080/"
        },
        "id": "_e_R98czSmkf",
        "outputId": "f12d6195-66ba-419f-b844-f3cff371928f"
      },
      "execution_count": 6,
      "outputs": [
        {
          "output_type": "execute_result",
          "data": {
            "text/plain": [
              "(1199, 60)"
            ]
          },
          "metadata": {},
          "execution_count": 6
        }
      ]
    },
    {
      "cell_type": "code",
      "source": [
        "length = 60\n",
        "n_features = 1"
      ],
      "metadata": {
        "id": "4R8mQcbMSoYz"
      },
      "execution_count": 7,
      "outputs": []
    },
    {
      "cell_type": "code",
      "source": [
        "model = models.Sequential()\n",
        "model.add(layers.SimpleRNN(10,input_shape=(length,n_features)))\n",
        "model.add(layers.Dense(1))"
      ],
      "metadata": {
        "id": "Z0MKl4diSqF_"
      },
      "execution_count": 8,
      "outputs": []
    },
    {
      "cell_type": "code",
      "source": [
        "model.compile(optimizer='rmsprop', loss='mse',metrics ='accuracy')"
      ],
      "metadata": {
        "id": "YSyjtA96Svoy"
      },
      "execution_count": 9,
      "outputs": []
    },
    {
      "cell_type": "code",
      "source": [
        "model.summary()"
      ],
      "metadata": {
        "colab": {
          "base_uri": "https://localhost:8080/"
        },
        "id": "u1e8DjTNS6dm",
        "outputId": "f6fe5751-6ec1-405f-d349-e981ee677e4f"
      },
      "execution_count": 10,
      "outputs": [
        {
          "output_type": "stream",
          "name": "stdout",
          "text": [
            "Model: \"sequential\"\n",
            "_________________________________________________________________\n",
            " Layer (type)                Output Shape              Param #   \n",
            "=================================================================\n",
            " simple_rnn (SimpleRNN)      (None, 10)                120       \n",
            "                                                                 \n",
            " dense (Dense)               (None, 1)                 11        \n",
            "                                                                 \n",
            "=================================================================\n",
            "Total params: 131\n",
            "Trainable params: 131\n",
            "Non-trainable params: 0\n",
            "_________________________________________________________________\n"
          ]
        }
      ]
    },
    {
      "cell_type": "code",
      "source": [
        "model.fit(X_train1,y_train,epochs=100, batch_size=64)"
      ],
      "metadata": {
        "colab": {
          "base_uri": "https://localhost:8080/"
        },
        "id": "U_9TD9ivS9Ub",
        "outputId": "a646c3c9-37ff-4923-cfe3-d676164d753d"
      },
      "execution_count": 11,
      "outputs": [
        {
          "output_type": "stream",
          "name": "stdout",
          "text": [
            "Epoch 1/100\n",
            "19/19 [==============================] - 1s 9ms/step - loss: 0.0021 - accuracy: 8.3403e-04\n",
            "Epoch 2/100\n",
            "19/19 [==============================] - 0s 8ms/step - loss: 7.8813e-04 - accuracy: 8.3403e-04\n",
            "Epoch 3/100\n",
            "19/19 [==============================] - 0s 9ms/step - loss: 6.7305e-04 - accuracy: 8.3403e-04\n",
            "Epoch 4/100\n",
            "19/19 [==============================] - 0s 9ms/step - loss: 5.7809e-04 - accuracy: 8.3403e-04\n",
            "Epoch 5/100\n",
            "19/19 [==============================] - 0s 9ms/step - loss: 5.0284e-04 - accuracy: 8.3403e-04\n",
            "Epoch 6/100\n",
            "19/19 [==============================] - 0s 9ms/step - loss: 4.4524e-04 - accuracy: 8.3403e-04\n",
            "Epoch 7/100\n",
            "19/19 [==============================] - 0s 9ms/step - loss: 3.9479e-04 - accuracy: 8.3403e-04\n",
            "Epoch 8/100\n",
            "19/19 [==============================] - 0s 8ms/step - loss: 3.7160e-04 - accuracy: 8.3403e-04\n",
            "Epoch 9/100\n",
            "19/19 [==============================] - 0s 9ms/step - loss: 3.2930e-04 - accuracy: 8.3403e-04\n",
            "Epoch 10/100\n",
            "19/19 [==============================] - 0s 8ms/step - loss: 3.2191e-04 - accuracy: 8.3403e-04\n",
            "Epoch 11/100\n",
            "19/19 [==============================] - 0s 9ms/step - loss: 3.1514e-04 - accuracy: 8.3403e-04\n",
            "Epoch 12/100\n",
            "19/19 [==============================] - 0s 12ms/step - loss: 3.2121e-04 - accuracy: 8.3403e-04\n",
            "Epoch 13/100\n",
            "19/19 [==============================] - 0s 15ms/step - loss: 3.0566e-04 - accuracy: 8.3403e-04\n",
            "Epoch 14/100\n",
            "19/19 [==============================] - 0s 14ms/step - loss: 3.0724e-04 - accuracy: 8.3403e-04\n",
            "Epoch 15/100\n",
            "19/19 [==============================] - 0s 15ms/step - loss: 2.7607e-04 - accuracy: 8.3403e-04\n",
            "Epoch 16/100\n",
            "19/19 [==============================] - 0s 14ms/step - loss: 2.9002e-04 - accuracy: 8.3403e-04\n",
            "Epoch 17/100\n",
            "19/19 [==============================] - 0s 14ms/step - loss: 2.8107e-04 - accuracy: 8.3403e-04\n",
            "Epoch 18/100\n",
            "19/19 [==============================] - 0s 14ms/step - loss: 2.5151e-04 - accuracy: 8.3403e-04\n",
            "Epoch 19/100\n",
            "19/19 [==============================] - 0s 21ms/step - loss: 3.0232e-04 - accuracy: 8.3403e-04\n",
            "Epoch 20/100\n",
            "19/19 [==============================] - 0s 26ms/step - loss: 2.7199e-04 - accuracy: 8.3403e-04\n",
            "Epoch 21/100\n",
            "19/19 [==============================] - 0s 19ms/step - loss: 2.8594e-04 - accuracy: 8.3403e-04\n",
            "Epoch 22/100\n",
            "19/19 [==============================] - 0s 10ms/step - loss: 2.6665e-04 - accuracy: 8.3403e-04\n",
            "Epoch 23/100\n",
            "19/19 [==============================] - 0s 9ms/step - loss: 2.8976e-04 - accuracy: 8.3403e-04\n",
            "Epoch 24/100\n",
            "19/19 [==============================] - 0s 9ms/step - loss: 2.6349e-04 - accuracy: 8.3403e-04\n",
            "Epoch 25/100\n",
            "19/19 [==============================] - 0s 9ms/step - loss: 2.7632e-04 - accuracy: 8.3403e-04\n",
            "Epoch 26/100\n",
            "19/19 [==============================] - 0s 9ms/step - loss: 2.8392e-04 - accuracy: 8.3403e-04\n",
            "Epoch 27/100\n",
            "19/19 [==============================] - 0s 9ms/step - loss: 2.6246e-04 - accuracy: 8.3403e-04\n",
            "Epoch 28/100\n",
            "19/19 [==============================] - 0s 8ms/step - loss: 2.5323e-04 - accuracy: 8.3403e-04\n",
            "Epoch 29/100\n",
            "19/19 [==============================] - 0s 9ms/step - loss: 2.5490e-04 - accuracy: 8.3403e-04\n",
            "Epoch 30/100\n",
            "19/19 [==============================] - 0s 8ms/step - loss: 2.8004e-04 - accuracy: 8.3403e-04\n",
            "Epoch 31/100\n",
            "19/19 [==============================] - 0s 9ms/step - loss: 2.5824e-04 - accuracy: 8.3403e-04\n",
            "Epoch 32/100\n",
            "19/19 [==============================] - 0s 9ms/step - loss: 2.5662e-04 - accuracy: 8.3403e-04\n",
            "Epoch 33/100\n",
            "19/19 [==============================] - 0s 9ms/step - loss: 2.8131e-04 - accuracy: 8.3403e-04\n",
            "Epoch 34/100\n",
            "19/19 [==============================] - 0s 8ms/step - loss: 2.6739e-04 - accuracy: 8.3403e-04\n",
            "Epoch 35/100\n",
            "19/19 [==============================] - 0s 9ms/step - loss: 2.7575e-04 - accuracy: 8.3403e-04\n",
            "Epoch 36/100\n",
            "19/19 [==============================] - 0s 9ms/step - loss: 2.4144e-04 - accuracy: 8.3403e-04\n",
            "Epoch 37/100\n",
            "19/19 [==============================] - 0s 9ms/step - loss: 2.5284e-04 - accuracy: 8.3403e-04\n",
            "Epoch 38/100\n",
            "19/19 [==============================] - 0s 9ms/step - loss: 2.6993e-04 - accuracy: 8.3403e-04\n",
            "Epoch 39/100\n",
            "19/19 [==============================] - 0s 9ms/step - loss: 2.8343e-04 - accuracy: 8.3403e-04\n",
            "Epoch 40/100\n",
            "19/19 [==============================] - 0s 9ms/step - loss: 2.4529e-04 - accuracy: 8.3403e-04\n",
            "Epoch 41/100\n",
            "19/19 [==============================] - 0s 8ms/step - loss: 2.6762e-04 - accuracy: 8.3403e-04\n",
            "Epoch 42/100\n",
            "19/19 [==============================] - 0s 8ms/step - loss: 2.4866e-04 - accuracy: 8.3403e-04\n",
            "Epoch 43/100\n",
            "19/19 [==============================] - 0s 9ms/step - loss: 2.5901e-04 - accuracy: 8.3403e-04\n",
            "Epoch 44/100\n",
            "19/19 [==============================] - 0s 9ms/step - loss: 2.6986e-04 - accuracy: 8.3403e-04\n",
            "Epoch 45/100\n",
            "19/19 [==============================] - 0s 10ms/step - loss: 2.5050e-04 - accuracy: 8.3403e-04\n",
            "Epoch 46/100\n",
            "19/19 [==============================] - 0s 8ms/step - loss: 2.4308e-04 - accuracy: 8.3403e-04\n",
            "Epoch 47/100\n",
            "19/19 [==============================] - 0s 9ms/step - loss: 2.6498e-04 - accuracy: 8.3403e-04\n",
            "Epoch 48/100\n",
            "19/19 [==============================] - 0s 9ms/step - loss: 2.4745e-04 - accuracy: 8.3403e-04\n",
            "Epoch 49/100\n",
            "19/19 [==============================] - 0s 8ms/step - loss: 2.4971e-04 - accuracy: 8.3403e-04\n",
            "Epoch 50/100\n",
            "19/19 [==============================] - 0s 8ms/step - loss: 2.5651e-04 - accuracy: 8.3403e-04\n",
            "Epoch 51/100\n",
            "19/19 [==============================] - 0s 9ms/step - loss: 2.3167e-04 - accuracy: 8.3403e-04\n",
            "Epoch 52/100\n",
            "19/19 [==============================] - 0s 9ms/step - loss: 2.5291e-04 - accuracy: 8.3403e-04\n",
            "Epoch 53/100\n",
            "19/19 [==============================] - 0s 8ms/step - loss: 2.5169e-04 - accuracy: 8.3403e-04\n",
            "Epoch 54/100\n",
            "19/19 [==============================] - 0s 9ms/step - loss: 2.5328e-04 - accuracy: 8.3403e-04\n",
            "Epoch 55/100\n",
            "19/19 [==============================] - 0s 8ms/step - loss: 2.4685e-04 - accuracy: 8.3403e-04\n",
            "Epoch 56/100\n",
            "19/19 [==============================] - 0s 8ms/step - loss: 2.3487e-04 - accuracy: 8.3403e-04\n",
            "Epoch 57/100\n",
            "19/19 [==============================] - 0s 9ms/step - loss: 2.4914e-04 - accuracy: 8.3403e-04\n",
            "Epoch 58/100\n",
            "19/19 [==============================] - 0s 9ms/step - loss: 2.5974e-04 - accuracy: 8.3403e-04\n",
            "Epoch 59/100\n",
            "19/19 [==============================] - 0s 8ms/step - loss: 2.3237e-04 - accuracy: 8.3403e-04\n",
            "Epoch 60/100\n",
            "19/19 [==============================] - 0s 9ms/step - loss: 2.5185e-04 - accuracy: 8.3403e-04\n",
            "Epoch 61/100\n",
            "19/19 [==============================] - 0s 8ms/step - loss: 2.2760e-04 - accuracy: 8.3403e-04\n",
            "Epoch 62/100\n",
            "19/19 [==============================] - 0s 8ms/step - loss: 2.3746e-04 - accuracy: 8.3403e-04\n",
            "Epoch 63/100\n",
            "19/19 [==============================] - 0s 8ms/step - loss: 2.5071e-04 - accuracy: 8.3403e-04\n",
            "Epoch 64/100\n",
            "19/19 [==============================] - 0s 9ms/step - loss: 2.3923e-04 - accuracy: 8.3403e-04\n",
            "Epoch 65/100\n",
            "19/19 [==============================] - 0s 8ms/step - loss: 2.7407e-04 - accuracy: 8.3403e-04\n",
            "Epoch 66/100\n",
            "19/19 [==============================] - 0s 9ms/step - loss: 2.2897e-04 - accuracy: 8.3403e-04\n",
            "Epoch 67/100\n",
            "19/19 [==============================] - 0s 9ms/step - loss: 2.3722e-04 - accuracy: 8.3403e-04\n",
            "Epoch 68/100\n",
            "19/19 [==============================] - 0s 8ms/step - loss: 2.2487e-04 - accuracy: 8.3403e-04\n",
            "Epoch 69/100\n",
            "19/19 [==============================] - 0s 10ms/step - loss: 2.4981e-04 - accuracy: 8.3403e-04\n",
            "Epoch 70/100\n",
            "19/19 [==============================] - 0s 9ms/step - loss: 2.4403e-04 - accuracy: 8.3403e-04\n",
            "Epoch 71/100\n",
            "19/19 [==============================] - 0s 9ms/step - loss: 2.3243e-04 - accuracy: 8.3403e-04\n",
            "Epoch 72/100\n",
            "19/19 [==============================] - 0s 8ms/step - loss: 2.5563e-04 - accuracy: 8.3403e-04\n",
            "Epoch 73/100\n",
            "19/19 [==============================] - 0s 10ms/step - loss: 2.4456e-04 - accuracy: 8.3403e-04\n",
            "Epoch 74/100\n",
            "19/19 [==============================] - 0s 9ms/step - loss: 2.5444e-04 - accuracy: 8.3403e-04\n",
            "Epoch 75/100\n",
            "19/19 [==============================] - 0s 9ms/step - loss: 2.3712e-04 - accuracy: 8.3403e-04\n",
            "Epoch 76/100\n",
            "19/19 [==============================] - 0s 8ms/step - loss: 2.3418e-04 - accuracy: 8.3403e-04\n",
            "Epoch 77/100\n",
            "19/19 [==============================] - 0s 8ms/step - loss: 2.3779e-04 - accuracy: 8.3403e-04\n",
            "Epoch 78/100\n",
            "19/19 [==============================] - 0s 9ms/step - loss: 2.3052e-04 - accuracy: 8.3403e-04\n",
            "Epoch 79/100\n",
            "19/19 [==============================] - 0s 9ms/step - loss: 2.4401e-04 - accuracy: 8.3403e-04\n",
            "Epoch 80/100\n",
            "19/19 [==============================] - 0s 17ms/step - loss: 2.3726e-04 - accuracy: 8.3403e-04\n",
            "Epoch 81/100\n",
            "19/19 [==============================] - 0s 15ms/step - loss: 2.4176e-04 - accuracy: 8.3403e-04\n",
            "Epoch 82/100\n",
            "19/19 [==============================] - 0s 14ms/step - loss: 2.4412e-04 - accuracy: 8.3403e-04\n",
            "Epoch 83/100\n",
            "19/19 [==============================] - 0s 15ms/step - loss: 2.2253e-04 - accuracy: 8.3403e-04\n",
            "Epoch 84/100\n",
            "19/19 [==============================] - 0s 14ms/step - loss: 2.2627e-04 - accuracy: 8.3403e-04\n",
            "Epoch 85/100\n",
            "19/19 [==============================] - 0s 14ms/step - loss: 2.4880e-04 - accuracy: 8.3403e-04\n",
            "Epoch 86/100\n",
            "19/19 [==============================] - 0s 14ms/step - loss: 2.3861e-04 - accuracy: 8.3403e-04\n",
            "Epoch 87/100\n",
            "19/19 [==============================] - 0s 15ms/step - loss: 2.1670e-04 - accuracy: 8.3403e-04\n",
            "Epoch 88/100\n",
            "19/19 [==============================] - 0s 14ms/step - loss: 2.5668e-04 - accuracy: 8.3403e-04\n",
            "Epoch 89/100\n",
            "19/19 [==============================] - 0s 15ms/step - loss: 2.3588e-04 - accuracy: 8.3403e-04\n",
            "Epoch 90/100\n",
            "19/19 [==============================] - 0s 15ms/step - loss: 2.3728e-04 - accuracy: 8.3403e-04\n",
            "Epoch 91/100\n",
            "19/19 [==============================] - 0s 9ms/step - loss: 2.1564e-04 - accuracy: 8.3403e-04\n",
            "Epoch 92/100\n",
            "19/19 [==============================] - 0s 8ms/step - loss: 2.4147e-04 - accuracy: 8.3403e-04\n",
            "Epoch 93/100\n",
            "19/19 [==============================] - 0s 8ms/step - loss: 2.3587e-04 - accuracy: 8.3403e-04\n",
            "Epoch 94/100\n",
            "19/19 [==============================] - 0s 8ms/step - loss: 2.4342e-04 - accuracy: 8.3403e-04\n",
            "Epoch 95/100\n",
            "19/19 [==============================] - 0s 10ms/step - loss: 2.4787e-04 - accuracy: 8.3403e-04\n",
            "Epoch 96/100\n",
            "19/19 [==============================] - 0s 9ms/step - loss: 2.2746e-04 - accuracy: 8.3403e-04\n",
            "Epoch 97/100\n",
            "19/19 [==============================] - 0s 10ms/step - loss: 2.3983e-04 - accuracy: 8.3403e-04\n",
            "Epoch 98/100\n",
            "19/19 [==============================] - 0s 8ms/step - loss: 2.4180e-04 - accuracy: 8.3403e-04\n",
            "Epoch 99/100\n",
            "19/19 [==============================] - 0s 9ms/step - loss: 2.3054e-04 - accuracy: 8.3403e-04\n",
            "Epoch 100/100\n",
            "19/19 [==============================] - 0s 9ms/step - loss: 2.2639e-04 - accuracy: 8.3403e-04\n"
          ]
        },
        {
          "output_type": "execute_result",
          "data": {
            "text/plain": [
              "<keras.callbacks.History at 0x7fde64417790>"
            ]
          },
          "metadata": {},
          "execution_count": 11
        }
      ]
    },
    {
      "cell_type": "code",
      "source": [
        "dataset_test = pd.read_csv('testset.csv')\n",
        "test_set = dataset_test.iloc[:,1:2].values\n",
        "test_set.shape"
      ],
      "metadata": {
        "colab": {
          "base_uri": "https://localhost:8080/"
        },
        "id": "Gnd05Do8S--l",
        "outputId": "43a4a9e5-bdd4-48db-898d-39a0ec5a25bc"
      },
      "execution_count": 13,
      "outputs": [
        {
          "output_type": "execute_result",
          "data": {
            "text/plain": [
              "(125, 1)"
            ]
          },
          "metadata": {},
          "execution_count": 13
        }
      ]
    },
    {
      "cell_type": "code",
      "source": [
        "dataset_total = pd.concat((dataset_train['Open'],dataset_test['Open']),axis=0)"
      ],
      "metadata": {
        "id": "3iEbpHpFTWe_"
      },
      "execution_count": 14,
      "outputs": []
    },
    {
      "cell_type": "code",
      "source": [
        "inputs = dataset_total.values\n",
        "inputs = inputs.reshape(-1,1)\n",
        "inputs_scaled=sc.transform(inputs)\n",
        "X_test = []\n",
        "for i in range(60,1384):\n",
        "  X_test.append(inputs_scaled[i-60:i,0])\n",
        "X_test = np.array(X_test)\n",
        "X_test = np.reshape(X_test,(X_test.shape[0], X_test.shape[1],1))"
      ],
      "metadata": {
        "id": "YOWbqhSJU0WX"
      },
      "execution_count": 17,
      "outputs": []
    },
    {
      "cell_type": "code",
      "source": [
        "predicted_stock_price_scaled = model.predict(X_test)\n",
        "predicted_stock_price = sc.inverse_transform(predicted_stock_price_scaled)\n",
        "plt.plot(np.arange(0,1384),inputs, color='black', label = 'Test(Real) Google stock price')\n",
        "plt.plot(np.arange(60,1384),predicted_stock_price, color='blue', label = 'Predicted Google stock price')\n",
        "plt.title('Google Stock Price Prediction')\n",
        "plt.xlabel('Time')\n",
        "plt.ylabel('Google Stock Price')\n",
        "plt.legend()\n",
        "plt.show()"
      ],
      "metadata": {
        "colab": {
          "base_uri": "https://localhost:8080/",
          "height": 489
        },
        "id": "gVeYEk6_Thol",
        "outputId": "20460661-d2be-483d-9df8-c9e7f5cedbc8"
      },
      "execution_count": 18,
      "outputs": [
        {
          "output_type": "stream",
          "name": "stdout",
          "text": [
            "42/42 [==============================] - 1s 5ms/step\n"
          ]
        },
        {
          "output_type": "display_data",
          "data": {
            "text/plain": [
              "<Figure size 640x480 with 1 Axes>"
            ],
            "image/png": "[encoded data removed]"
          },
          "metadata": {}
        }
      ]
    },
    {
      "cell_type": "code",
      "source": [],
      "metadata": {
        "id": "Q_YPw6HNU15e"
      },
      "execution_count": null,
      "outputs": []
    }
  ]
}